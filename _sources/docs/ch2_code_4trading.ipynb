{
 "cells": [
  {
   "cell_type": "markdown",
   "id": "847d7ed4",
   "metadata": {},
   "source": [
    "(pd_functions)=\n",
    "# Code For Trading\n",
    "\n",
    "Pandas is an excellent library for analyzing and dealing with data.\n",
    "\n",
    "In order to calculate profits and how much money to I put into the market, I use a formula after downloading my data from RBC direct investing."
   ]
  },
  {
   "cell_type": "code",
   "execution_count": 1,
   "id": "88e79e02",
   "metadata": {},
   "outputs": [
    {
     "name": "stdout",
     "output_type": "stream",
     "text": [
      "                         Activity  Symbol     Value\n",
      "0                             Buy      BB   -100.95\n",
      "1                             Buy  RBF556  -2328.24\n",
      "2        Deposits & Contributions           1000.00\n",
      "3  Withdrawals & De-registrations  RBF558 -14000.00\n",
      "4        Deposits & Contributions          15000.00\n",
      "2000.0\n"
     ]
    }
   ],
   "source": [
    "import pandas as pd\n",
    "data = {\n",
    "    \"Activity\": {\n",
    "        0: \"Buy\",\n",
    "        1: \"Buy\",\n",
    "        2: \"Deposits & Contributions\",\n",
    "        3: \"Withdrawals & De-registrations\",\n",
    "        4: \"Deposits & Contributions\",\n",
    "    },\n",
    "    \"Symbol\": {0: \"BB\", 1: \"RBF556\", 2: \"\", 3: \"RBF558\", 4: \"\"},\n",
    "    \"Value\": {0: -100.95, 1: -2328.24, 2: 1000.0, 3: -14000.0, 4: 15000.0},\n",
    "}\n",
    "df = pd.DataFrame.from_dict(data)\n",
    "\n",
    "print(df)\n",
    "\n",
    "deposit_df = df[df.Activity == \"Deposits & Contributions\"]\n",
    "divid_df = df[df.Activity == \"Dividends\"]\n",
    "with_df = df[df.Activity == \"Withdrawals & De-registrations\"]\n",
    "total = deposit_df['Value'].sum() + with_df['Value'].sum()\n",
    "print(total)"
   ]
  },
  {
   "cell_type": "markdown",
   "id": "d76c2af2",
   "metadata": {},
   "source": [
    "% Continue on with pandas examples\n",
    "\n",
    "\n",
    "```\n",
    "# download files for S&P 500 plot\n",
    "# http://www.cboe.com/publish/scheduledtask/mktdata/datahouse/vixcurrent.csv\n",
    "import pandas as pd\n",
    "import io\n",
    "import requests\n",
    "import yfinance as yf\n",
    "import mplfinance as mpf\n",
    "\n",
    "# data is only up to 2004\n",
    "url = \"http://www.cboe.com/publish/scheduledtask/mktdata/datahouse/vixcurrent.csv\"\n",
    "s = requests.get(url).content\n",
    "vix = pd.read_csv(io.StringIO(s.decode(\"utf-8\")))\n",
    "# VIX Open,VIX High,VIX Low,VIX Close\n",
    "vix = vix.iloc[\n",
    "    1:,\n",
    "]\n",
    "vix.columns = [\"Date\", \"Open\", \"High\", \"Low\", \"Close\"]\n",
    "vix[\"Date\"] = pd.to_datetime(vix[\"Date\"].astype(str), format=\"%m/%d/%Y\")\n",
    "# vix.rename(columns={\"VIX Open\": \"Open\", \"VIX High\": \"High\", \"VIX Close\": \"Close\"})\n",
    "vix[[\"Open\", \"High\", \"Close\"]] = vix[[\"Open\", \"High\", \"Close\"]].apply(pd.to_numeric)\n",
    "vix = vix.set_index(\"Date\", drop=True)\n",
    "vix.to_csv(\"vix_curr.csv\", index=True)\n",
    "\n",
    "sp = yf.Ticker(\"^GSPC\")\n",
    "# Consider grabbing for valid date index instead\n",
    "history = sp.history(start=\"2004-01-02\")\n",
    "apds = [\n",
    "    mpf.make_addplot(vix.Open.values, linestyle=\"dotted\", ylabel=\"Volality VIX (Open)\"),\n",
    "]\n",
    "\n",
    "fig, axes = mpf.plot(\n",
    "    history,\n",
    "    addplot=apds,\n",
    "    ylabel=\"Price (USD)\",\n",
    "    returnfig=True,\n",
    "    figscale=1.2,\n",
    "    title=\"S&P 500\",\n",
    ")\n",
    "\n",
    "axes[0].legend([\"S&P500\", \"VIX\"], loc=\"upper left\")\n",
    "fig.savefig(\"vix_vs_s&p500.png\")\n",
    "```\n",
    "\n",
    "Which produces the following image\n",
    "```{image} ../_static/afterthoughts/vix_vs_s&p500.png\n",
    ":alt: vix and s&p500\n",
    ":align: center\n",
    "```\n",
    "\n",
    "If the vix is spiking way above the graph and the s&p500 is low, then it is an excellent time to buy.\n",
    "\n",
    "\n",
    "## Thoughts on algorithmic trading\n",
    "\n",
    "Some of the assumptions made during algorithmic trading are fairly interesting\n",
    "\n",
    "You can focus on either internal events or external events (like covid19).\n",
    "\n",
    "You assume the stock price fully prices in earnings and revenue projections (not always accurate), especially for small caps. \n",
    "\n",
    "An reinforcement algorithm only attempts to make the \"right\" decision and not predict the price."
   ]
  }
 ],
 "metadata": {
  "jupytext": {
   "text_representation": {
    "extension": ".md",
    "format_name": "myst"
   }
  },
  "kernelspec": {
   "display_name": "Python 3",
   "language": "python",
   "name": "python3"
  },
  "language_info": {
   "codemirror_mode": {
    "name": "ipython",
    "version": 3
   },
   "file_extension": ".py",
   "mimetype": "text/x-python",
   "name": "python",
   "nbconvert_exporter": "python",
   "pygments_lexer": "ipython3",
   "version": "3.10.12"
  },
  "source_map": [
   10,
   19,
   41
  ]
 },
 "nbformat": 4,
 "nbformat_minor": 5
}