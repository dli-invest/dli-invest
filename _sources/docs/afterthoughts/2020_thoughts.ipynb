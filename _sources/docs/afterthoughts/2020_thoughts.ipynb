{
 "cells": [
  {
   "cell_type": "markdown",
   "id": "9c2b9846",
   "metadata": {},
   "source": [
    "# Stock Purchases Thoughts\n",
    "\n",
    "**12/05/2020**\n",
    "If you have no idea what you are doing, rely on charts and TA, it can tell you a good time to sell.\n",
    "\n",
    "Never underestimate FOMO\n",
    "\n",
    "**11/11/2020**\n",
    "\n",
    "* MTRX loop insights - spiked to 0.50 - shouldn't have sold\n",
    "* DCM - epic report good buy\n",
    "* PKK - went down a bunch still a decent buy with a zack report at 3.8 USD - 5.0 CAD\n",
    "* ART - down should be knee jerk reaction\n",
    "* BEE - should recover with other pandemic stocks  looking promising 100% retention must have good product and good peope\n",
    "* CGX - sold cause movie theatre - day trade\n",
    "\n",
    "**11/09/2020**\n",
    "\n",
    "MTRX loop insights video mentioning pfizer, why the heck did I sell it. Was this a good idea? probably not.\n",
    "\n",
    "Bought DCM - should be up 10x and peak should be up 10 x.\n",
    "\n",
    "Diversification - perhaps should have just spent more money instead.\n",
    "\n",
    "Split advice by year eventually\n",
    "**10/28/2020**\n",
    "\n",
    "Stock market crashing dont feel like selling\n",
    "\n",
    "- CMC.CN - Needs to hit targets and shit the facilities built\n",
    "- PKK.CN - main focus on china not covid center spot\n",
    "- IDK.CN - nav of 0.41 usually stocks trade 2x nav and pkk.cn + mtrx doing well this year\n",
    "- MTRX.CN - contact tracing, if adopted should do well\n",
    "- ART.V - business does well in covid19\n",
    "\n",
    "Can trim some loop on the uptick 10k shares, same with cielo, 40k shares\n",
    "\n",
    "**10/23/2020**\n",
    "Peak to aphria\n",
    "\n",
    "shouldn't have fucking sold\n",
    "\n",
    "Peak still growing\n",
    "\n",
    "Pot not tech, can't grow fast\n",
    "aphria thoughts, if biden wins, harris pot decriminalization in america, temp surge, dump aphria, buy arht?\n",
    "\n",
    "**10/11/2020**\n",
    "\n",
    "Doubling down on peak as some guy in ceo.ca/pkk posted an article about china growing. They have control of the virus, it makes sense to invest in a country that is growing that is not in the state, espeically if they believe they are severely undervalued with high margins and the opportunity to give a dividend.\n",
    "\n",
    "In addition, sheldon has a position in pkk.\n",
    "\n",
    "Cielo seems to be doing well, if production numbers are 1000 L/h (pretty high), I would expect 100x return sometime in the future. After all, they have done the work to start growing like crazy as plastic production is projected to increase and there is no solution as good as cielo at the moment.\n",
    "\n",
    "**09/13/2020**\n",
    "KUU MIGHT BEINSOVLENT\n",
    "Wait on BYL for 5G\n",
    "\n",
    "Think about VIS.V if it makes 334,250 as projected in Q4\n",
    "\n",
    "The stocks I looked at recently that were interesting as of 09/15/2020\n",
    "\n",
    "| Ticker   | Long Name                       |\n",
    "| :---     | ---:                            |\n",
    "| PAI      | Predictiv AI Inc.               |\n",
    "| RW       | RenoWorks Software Inc          |\n",
    "| DFT      | Dimension Five Technologies Inc |\n",
    "| KUU      | Kuuhubb Inc                     |\n",
    "| BYL      | Baylin Technology Inc           |\n",
    "| CMC      | Cielo Waste Solutions Inc       |\n",
    "\n",
    "\n",
    "**09/08/2020**"
   ]
  },
  {
   "cell_type": "code",
   "execution_count": 1,
   "id": "071f32cb",
   "metadata": {},
   "outputs": [
    {
     "name": "stdout",
     "output_type": "stream",
     "text": [
      "VST.CN: No data found for this date range, symbol may be delisted\n"
     ]
    },
    {
     "ename": "TypeError",
     "evalue": "Expect data.index as DatetimeIndex",
     "output_type": "error",
     "traceback": [
      "\u001b[0;31m---------------------------------------------------------------------------\u001b[0m",
      "\u001b[0;31mTypeError\u001b[0m                                 Traceback (most recent call last)",
      "Cell \u001b[0;32mIn[1], line 8\u001b[0m\n\u001b[1;32m      6\u001b[0m vst \u001b[38;5;241m=\u001b[39m yf\u001b[38;5;241m.\u001b[39mTicker(\u001b[38;5;124m\"\u001b[39m\u001b[38;5;124mVST.CN\u001b[39m\u001b[38;5;124m\"\u001b[39m)\n\u001b[1;32m      7\u001b[0m data \u001b[38;5;241m=\u001b[39m vst\u001b[38;5;241m.\u001b[39mhistory(interval\u001b[38;5;241m=\u001b[39m\u001b[38;5;124m\"\u001b[39m\u001b[38;5;124m1d\u001b[39m\u001b[38;5;124m\"\u001b[39m, start\u001b[38;5;241m=\u001b[39m\u001b[38;5;124m\"\u001b[39m\u001b[38;5;124m2020-08-08\u001b[39m\u001b[38;5;124m\"\u001b[39m, end\u001b[38;5;241m=\u001b[39m\u001b[38;5;124m\"\u001b[39m\u001b[38;5;124m2020-09-10\u001b[39m\u001b[38;5;124m\"\u001b[39m)\n\u001b[0;32m----> 8\u001b[0m \u001b[43mmpf\u001b[49m\u001b[38;5;241;43m.\u001b[39;49m\u001b[43mplot\u001b[49m\u001b[43m(\u001b[49m\n\u001b[1;32m      9\u001b[0m \u001b[43m    \u001b[49m\u001b[43mdata\u001b[49m\u001b[43m,\u001b[49m\n\u001b[1;32m     10\u001b[0m \u001b[43m    \u001b[49m\u001b[38;5;28;43mtype\u001b[39;49m\u001b[38;5;241;43m=\u001b[39;49m\u001b[38;5;124;43m\"\u001b[39;49m\u001b[38;5;124;43mcandle\u001b[39;49m\u001b[38;5;124;43m\"\u001b[39;49m\u001b[43m,\u001b[49m\n\u001b[1;32m     11\u001b[0m \u001b[43m    \u001b[49m\u001b[43mmav\u001b[49m\u001b[38;5;241;43m=\u001b[39;49m\u001b[38;5;241;43m4\u001b[39;49m\u001b[43m,\u001b[49m\n\u001b[1;32m     12\u001b[0m \u001b[43m    \u001b[49m\u001b[43mtitle\u001b[49m\u001b[38;5;241;43m=\u001b[39;49m\u001b[38;5;124;43m\"\u001b[39;49m\u001b[38;5;124;43mVictory Square Purchases Dates\u001b[39;49m\u001b[38;5;124;43m\"\u001b[39;49m\u001b[43m,\u001b[49m\n\u001b[1;32m     13\u001b[0m \u001b[43m    \u001b[49m\u001b[43mvlines\u001b[49m\u001b[38;5;241;43m=\u001b[39;49m\u001b[38;5;28;43mdict\u001b[39;49m\u001b[43m(\u001b[49m\n\u001b[1;32m     14\u001b[0m \u001b[43m        \u001b[49m\u001b[43mvlines\u001b[49m\u001b[38;5;241;43m=\u001b[39;49m\u001b[43m[\u001b[49m\u001b[38;5;124;43m\"\u001b[39;49m\u001b[38;5;124;43m2020-08-26\u001b[39;49m\u001b[38;5;124;43m\"\u001b[39;49m\u001b[43m,\u001b[49m\u001b[43m \u001b[49m\u001b[38;5;124;43m\"\u001b[39;49m\u001b[38;5;124;43m2020-09-03\u001b[39;49m\u001b[38;5;124;43m\"\u001b[39;49m\u001b[43m,\u001b[49m\u001b[43m \u001b[49m\u001b[38;5;124;43m\"\u001b[39;49m\u001b[38;5;124;43m2020-09-08\u001b[39;49m\u001b[38;5;124;43m\"\u001b[39;49m\u001b[43m]\u001b[49m\u001b[43m,\u001b[49m\u001b[43m \u001b[49m\u001b[43mlinewidths\u001b[49m\u001b[38;5;241;43m=\u001b[39;49m\u001b[43m(\u001b[49m\u001b[38;5;241;43m0.5\u001b[39;49m\u001b[43m,\u001b[49m\u001b[43m \u001b[49m\u001b[38;5;241;43m0.5\u001b[39;49m\u001b[43m,\u001b[49m\u001b[43m \u001b[49m\u001b[38;5;241;43m0.5\u001b[39;49m\u001b[43m)\u001b[49m\n\u001b[1;32m     15\u001b[0m \u001b[43m    \u001b[49m\u001b[43m)\u001b[49m\u001b[43m,\u001b[49m\n\u001b[1;32m     16\u001b[0m \u001b[43m)\u001b[49m\n",
      "File \u001b[0;32m/opt/hostedtoolcache/Python/3.10.10/x64/lib/python3.10/site-packages/mplfinance/plotting.py:417\u001b[0m, in \u001b[0;36mplot\u001b[0;34m(data, **kwargs)\u001b[0m\n\u001b[1;32m    414\u001b[0m \u001b[38;5;66;03m# translate alias types:\u001b[39;00m\n\u001b[1;32m    415\u001b[0m config[\u001b[38;5;124m'\u001b[39m\u001b[38;5;124mtype\u001b[39m\u001b[38;5;124m'\u001b[39m] \u001b[38;5;241m=\u001b[39m _get_valid_plot_types(config[\u001b[38;5;124m'\u001b[39m\u001b[38;5;124mtype\u001b[39m\u001b[38;5;124m'\u001b[39m])\n\u001b[0;32m--> 417\u001b[0m dates,opens,highs,lows,closes,volumes \u001b[38;5;241m=\u001b[39m \u001b[43m_check_and_prepare_data\u001b[49m\u001b[43m(\u001b[49m\u001b[43mdata\u001b[49m\u001b[43m,\u001b[49m\u001b[43m \u001b[49m\u001b[43mconfig\u001b[49m\u001b[43m)\u001b[49m\n\u001b[1;32m    419\u001b[0m config[\u001b[38;5;124m'\u001b[39m\u001b[38;5;124mxlim\u001b[39m\u001b[38;5;124m'\u001b[39m] \u001b[38;5;241m=\u001b[39m _check_and_convert_xlim_configuration(data, config)\n\u001b[1;32m    421\u001b[0m \u001b[38;5;28;01mif\u001b[39;00m config[\u001b[38;5;124m'\u001b[39m\u001b[38;5;124mtype\u001b[39m\u001b[38;5;124m'\u001b[39m] \u001b[38;5;129;01min\u001b[39;00m VALID_PMOVE_TYPES \u001b[38;5;129;01mand\u001b[39;00m config[\u001b[38;5;124m'\u001b[39m\u001b[38;5;124maddplot\u001b[39m\u001b[38;5;124m'\u001b[39m] \u001b[38;5;129;01mis\u001b[39;00m \u001b[38;5;129;01mnot\u001b[39;00m \u001b[38;5;28;01mNone\u001b[39;00m:\n",
      "File \u001b[0;32m/opt/hostedtoolcache/Python/3.10.10/x64/lib/python3.10/site-packages/mplfinance/_arg_validators.py:31\u001b[0m, in \u001b[0;36m_check_and_prepare_data\u001b[0;34m(data, config)\u001b[0m\n\u001b[1;32m     28\u001b[0m     \u001b[38;5;28;01mraise\u001b[39;00m \u001b[38;5;167;01mTypeError\u001b[39;00m(\u001b[38;5;124m'\u001b[39m\u001b[38;5;124mExpect data as DataFrame\u001b[39m\u001b[38;5;124m'\u001b[39m)\n\u001b[1;32m     30\u001b[0m \u001b[38;5;28;01mif\u001b[39;00m \u001b[38;5;129;01mnot\u001b[39;00m \u001b[38;5;28misinstance\u001b[39m(data\u001b[38;5;241m.\u001b[39mindex,pd\u001b[38;5;241m.\u001b[39mcore\u001b[38;5;241m.\u001b[39mindexes\u001b[38;5;241m.\u001b[39mdatetimes\u001b[38;5;241m.\u001b[39mDatetimeIndex):\n\u001b[0;32m---> 31\u001b[0m     \u001b[38;5;28;01mraise\u001b[39;00m \u001b[38;5;167;01mTypeError\u001b[39;00m(\u001b[38;5;124m'\u001b[39m\u001b[38;5;124mExpect data.index as DatetimeIndex\u001b[39m\u001b[38;5;124m'\u001b[39m)\n\u001b[1;32m     33\u001b[0m \u001b[38;5;66;03m# We will not be fully case-insensitive (since Pandas columns as NOT case-insensitive)\u001b[39;00m\n\u001b[1;32m     34\u001b[0m \u001b[38;5;66;03m# but because so many people have requested it, for the default column names we will\u001b[39;00m\n\u001b[1;32m     35\u001b[0m \u001b[38;5;66;03m# try both Capitalized and lower case:\u001b[39;00m\n\u001b[1;32m     36\u001b[0m columns \u001b[38;5;241m=\u001b[39m config[\u001b[38;5;124m'\u001b[39m\u001b[38;5;124mcolumns\u001b[39m\u001b[38;5;124m'\u001b[39m]\n",
      "\u001b[0;31mTypeError\u001b[0m: Expect data.index as DatetimeIndex"
     ]
    }
   ],
   "source": [
    "import yfinance as yf\n",
    "import matplotlib.pyplot as plt\n",
    "import matplotlib.dates as mdates\n",
    "import mplfinance as mpf\n",
    "\n",
    "vst = yf.Ticker(\"VST.CN\")\n",
    "data = vst.history(interval=\"1d\", start=\"2020-08-08\", end=\"2020-09-10\")\n",
    "mpf.plot(\n",
    "    data,\n",
    "    type=\"candle\",\n",
    "    mav=4,\n",
    "    title=\"Victory Square Purchases Dates\",\n",
    "    vlines=dict(\n",
    "        vlines=[\"2020-08-26\", \"2020-09-03\", \"2020-09-08\"], linewidths=(0.5, 0.5, 0.5)\n",
    "    ),\n",
    ")"
   ]
  },
  {
   "cell_type": "markdown",
   "id": "f8305f22",
   "metadata": {},
   "source": [
    "The first few purchases on August 26 and September 03 were profitable, after the failed Sept 08 purchases and surprise drop I emailed the investor relations guy asking about india approval.\n",
    "\n",
    "My brief calculations of the covid-19 test selling well make me think if they sell well (80 \\%), the stock will continue the rise.\n",
    "\n",
    "The combination of covid-19 increasing, the need to know if you were previously infected for health care workers perhaps even vaccines, make me think that the stock will go up in the short term in the next few months.\n",
    "\n",
    "\n",
    "\n",
    "\n",
    "## Cloud Architecture V1\n",
    "\n",
    "Since diagrams added a bunch of nodes, I can now fully diagram my current stock market CI/CD pipelines and tools.\n",
    "\n",
    "To run on colab install graphviz\n",
    "```\n",
    "!pip install graphviz\n",
    "!apt-get install graphviz\n",
    "```\n",
    "\n",
    "Install the diagrams package\n",
    "```\n",
    "!pip install diagrams\n",
    "```\n",
    "\n",
    "```{figure} /_static/diagrams/v1stockarch.png\n",
    "```\n",
    "\n",
    "\n",
    "## Cloud Architecture V0\n",
    "\n",
    "Make this seperate chapter \n",
    "\n",
    "\n",
    "As for sept 28 2020\n",
    "\n",
    "```{figure} /_static/diagrams/v0stockarch.png\n",
    "```\n",
    "\n",
    "my basic cloud archtecture was based on gcp. Primarily using google cloud build for automated deployed and the various serverless compute options. Aimed to stay within free tier but sometimes I paid cash for this (TODO make a blog post about my stocks hosting stuff)."
   ]
  }
 ],
 "metadata": {
  "jupytext": {
   "text_representation": {
    "extension": ".md",
    "format_name": "myst"
   }
  },
  "kernelspec": {
   "display_name": "Python 3",
   "language": "python",
   "name": "python3"
  },
  "language_info": {
   "codemirror_mode": {
    "name": "ipython",
    "version": 3
   },
   "file_extension": ".py",
   "mimetype": "text/x-python",
   "name": "python",
   "nbconvert_exporter": "python",
   "pygments_lexer": "ipython3",
   "version": "3.10.10"
  },
  "source_map": [
   10,
   86,
   103
  ]
 },
 "nbformat": 4,
 "nbformat_minor": 5
}