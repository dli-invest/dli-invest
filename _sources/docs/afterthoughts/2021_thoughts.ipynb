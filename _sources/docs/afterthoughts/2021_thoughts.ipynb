{
 "cells": [
  {
   "cell_type": "markdown",
   "id": "fa9721da",
   "metadata": {},
   "source": [
    "## Stock Purchases Thoughts\n",
    "\n",
    "Going to purchase ART and CMC for my tsfa 2021\n",
    "\n",
    "Clean Tech is going to do well in CMC, if the Cielo tech is as good as they say, 100 bagger, as for ART, seems like holograms are going to do well.\n",
    "\n",
    "Could have future lockdowns.\n",
    "\n",
    "PKK - 10 bagger eoy price 5.00\n",
    "IDK - 10 bagger eoy price 2.30\n",
    "BEE - eoy price 0.80\n",
    "CMC - 0.30\n",
    "BB - 12\n",
    "N - 0.39\n",
    "PYR - 7\n",
    "NTAR - 10\n",
    "DCM - 2\n",
    "\n",
    "PKK forever stock, want to hold 20 long term, can add some to tsfa at most 2\n",
    "IDK can add at most 14 cause selling USD stock\n",
    "\n",
    "\n",
    "TSX: ADCO, Ad core, adco.v\n",
    "CSE: CRL, carl data solutions, crl.cn\n",
    "UBMRF:US, urban immursive\n",
    "dtst, data storage corporation\n",
    "\n",
    "**4/4/2021**\n",
    "\n",
    "Coinbase, buy 3 shares, see where the price goes, holding too much cash.\n",
    "\n",
    "\n",
    "**8/22/2021**\n",
    "\n",
    "I believe vst will go to the moon, covalent holdings are much higher than the nav.\n",
    "\n",
    "The ability to buy more creator.co with shares priced at 1.00 rather compared to current stock price of 0.54.\n",
    "\n",
    "The water shortage is interesting,\n",
    "\n",
    "I think water treatment will become more important, with contaminated water \n",
    "mud/oil.\n",
    "\n",
    "Consider investing in [AQUA](https://finance.yahoo.com/quote/AQUA?p=AQUA&.tsrc=fin-srch).\n",
    "### Retirement crisis\n",
    "\n",
    "The retirement crisis will happen because of politicans overpromising and underdelivering.\n",
    "\n",
    "With biden giving 86 billion to bail out pensions, will likely happen if calfornia pensions go away.\n",
    "\n",
    "When the crisis happens, taxes will likely go up and/or house prices go down?\n",
    "\n",
    "I hope that the retirement crisis will be resolved soon"
   ]
  }
 ],
 "metadata": {
  "jupytext": {
   "text_representation": {
    "extension": ".md",
    "format_name": "myst"
   }
  },
  "kernelspec": {
   "display_name": "Python 3",
   "language": "python",
   "name": "python3"
  },
  "language_info": {
   "codemirror_mode": {
    "name": "ipython",
    "version": 3
   },
   "file_extension": ".py",
   "mimetype": "text/x-python",
   "name": "python",
   "nbconvert_exporter": "python",
   "pygments_lexer": "ipython3",
   "version": "3.7.11"
  },
  "source_map": [
   10
  ]
 },
 "nbformat": 4,
 "nbformat_minor": 5
}