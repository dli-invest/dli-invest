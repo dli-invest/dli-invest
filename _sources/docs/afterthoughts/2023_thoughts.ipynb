{
 "cells": [
  {
   "cell_type": "code",
   "execution_count": 1,
   "id": "6a435b36",
   "metadata": {},
   "outputs": [
    {
     "name": "stdout",
     "output_type": "stream",
     "text": [
      "\r",
      "[*********************100%%**********************]  1 of 1 completed"
     ]
    },
    {
     "name": "stderr",
     "output_type": "stream",
     "text": [
      "\n",
      "1 Failed download:\n"
     ]
    },
    {
     "name": "stderr",
     "output_type": "stream",
     "text": [
      "['NG=F']: OperationalError('unable to open database file')\n"
     ]
    },
    {
     "name": "stdout",
     "output_type": "stream",
     "text": [
      "\n"
     ]
    },
    {
     "ename": "IndexError",
     "evalue": "index -1 is out of bounds for axis 0 with size 0",
     "output_type": "error",
     "traceback": [
      "\u001b[0;31m---------------------------------------------------------------------------\u001b[0m",
      "\u001b[0;31mIndexError\u001b[0m                                Traceback (most recent call last)",
      "Cell \u001b[0;32mIn[1], line 14\u001b[0m\n\u001b[1;32m     10\u001b[0m nat_gas[\u001b[38;5;124m'\u001b[39m\u001b[38;5;124mMonth\u001b[39m\u001b[38;5;124m'\u001b[39m] \u001b[38;5;241m=\u001b[39m pd\u001b[38;5;241m.\u001b[39mto_datetime(nat_gas\u001b[38;5;241m.\u001b[39mindex)\n\u001b[1;32m     11\u001b[0m \u001b[38;5;66;03m# pad all date\u001b[39;00m\n\u001b[1;32m     12\u001b[0m \u001b[38;5;66;03m# print(nat_gas.groupby(by=['Volume', 'Adj Close', pd.Grouper(key='Month', freq='3M')])['Open'].agg('mean'))\u001b[39;00m\n\u001b[0;32m---> 14\u001b[0m mths_3 \u001b[38;5;241m=\u001b[39m pd\u001b[38;5;241m.\u001b[39mdate_range(end \u001b[38;5;241m=\u001b[39m \u001b[43mnat_gas\u001b[49m\u001b[38;5;241;43m.\u001b[39;49m\u001b[43mindex\u001b[49m\u001b[43m[\u001b[49m\u001b[38;5;241;43m-\u001b[39;49m\u001b[38;5;241;43m1\u001b[39;49m\u001b[43m]\u001b[49m, freq\u001b[38;5;241m=\u001b[39mpd\u001b[38;5;241m.\u001b[39moffsets\u001b[38;5;241m.\u001b[39mBQuarterEnd(),periods\u001b[38;5;241m=\u001b[39m\u001b[38;5;241m8\u001b[39m)\n\u001b[1;32m     15\u001b[0m \u001b[38;5;66;03m# mths_6 = pd.date_range(end = nat_gas.index[-1], freq=pd.offsets.MonthBegin(6),periods=4)\u001b[39;00m\n\u001b[1;32m     17\u001b[0m mth3 \u001b[38;5;241m=\u001b[39m (nat_gas\n\u001b[1;32m     18\u001b[0m          \u001b[38;5;66;03m#filter for last three months\u001b[39;00m\n\u001b[1;32m     19\u001b[0m         \u001b[38;5;241m.\u001b[39mloc[mths_3]\n\u001b[1;32m     20\u001b[0m         \u001b[38;5;241m.\u001b[39mgroupby([\u001b[38;5;124m\"\u001b[39m\u001b[38;5;124mMonth\u001b[39m\u001b[38;5;124m\"\u001b[39m, \u001b[38;5;124m\"\u001b[39m\u001b[38;5;124mVolume\u001b[39m\u001b[38;5;124m\"\u001b[39m])\n\u001b[1;32m     21\u001b[0m         \u001b[38;5;241m.\u001b[39magg(avg_ng_last_3_months\u001b[38;5;241m=\u001b[39m(\u001b[38;5;124m\"\u001b[39m\u001b[38;5;124mOpen\u001b[39m\u001b[38;5;124m\"\u001b[39m,\u001b[38;5;124m\"\u001b[39m\u001b[38;5;124mmean\u001b[39m\u001b[38;5;124m\"\u001b[39m))\n\u001b[1;32m     22\u001b[0m         )\n",
      "File \u001b[0;32m/opt/hostedtoolcache/Python/3.10.13/x64/lib/python3.10/site-packages/pandas/core/indexes/base.py:5365\u001b[0m, in \u001b[0;36mIndex.__getitem__\u001b[0;34m(self, key)\u001b[0m\n\u001b[1;32m   5362\u001b[0m \u001b[38;5;28;01mif\u001b[39;00m is_integer(key) \u001b[38;5;129;01mor\u001b[39;00m is_float(key):\n\u001b[1;32m   5363\u001b[0m     \u001b[38;5;66;03m# GH#44051 exclude bool, which would return a 2d ndarray\u001b[39;00m\n\u001b[1;32m   5364\u001b[0m     key \u001b[38;5;241m=\u001b[39m com\u001b[38;5;241m.\u001b[39mcast_scalar_indexer(key)\n\u001b[0;32m-> 5365\u001b[0m     \u001b[38;5;28;01mreturn\u001b[39;00m \u001b[43mgetitem\u001b[49m\u001b[43m(\u001b[49m\u001b[43mkey\u001b[49m\u001b[43m)\u001b[49m\n\u001b[1;32m   5367\u001b[0m \u001b[38;5;28;01mif\u001b[39;00m \u001b[38;5;28misinstance\u001b[39m(key, \u001b[38;5;28mslice\u001b[39m):\n\u001b[1;32m   5368\u001b[0m     \u001b[38;5;66;03m# This case is separated from the conditional above to avoid\u001b[39;00m\n\u001b[1;32m   5369\u001b[0m     \u001b[38;5;66;03m# pessimization com.is_bool_indexer and ndim checks.\u001b[39;00m\n\u001b[1;32m   5370\u001b[0m     \u001b[38;5;28;01mreturn\u001b[39;00m \u001b[38;5;28mself\u001b[39m\u001b[38;5;241m.\u001b[39m_getitem_slice(key)\n",
      "\u001b[0;31mIndexError\u001b[0m: index -1 is out of bounds for axis 0 with size 0"
     ]
    }
   ],
   "source": [
    "# calculate average from daily data from natural gas futures from yahoo finance\n",
    "import yfinance\n",
    "import pandas as pd\n",
    "import mplfinance as mpf\n",
    "\n",
    "# read NG=F 2 years worth of data\n",
    "\n",
    "nat_gas = yfinance.download(\"NG=F\", start=\"2021-01-01\", end=\"2023-01-01\")\n",
    "\n",
    "nat_gas['Month'] = pd.to_datetime(nat_gas.index)\n",
    "# pad all date\n",
    "# print(nat_gas.groupby(by=['Volume', 'Adj Close', pd.Grouper(key='Month', freq='3M')])['Open'].agg('mean'))\n",
    "\n",
    "mths_3 = pd.date_range(end = nat_gas.index[-1], freq=pd.offsets.BQuarterEnd(),periods=8)\n",
    "# mths_6 = pd.date_range(end = nat_gas.index[-1], freq=pd.offsets.MonthBegin(6),periods=4)\n",
    "\n",
    "mth3 = (nat_gas\n",
    "         #filter for last three months\n",
    "        .loc[mths_3]\n",
    "        .groupby([\"Month\", \"Volume\"])\n",
    "        .agg(avg_ng_last_3_months=(\"Open\",\"mean\"))\n",
    "        )\n",
    "\n",
    "# mth6 = (nat_gas\n",
    "#          #filter for last six months\n",
    "#         .loc[mths_6]\n",
    "#          .groupby([\"Volume\", \"Month\"])\n",
    "#         .agg(avg_invoices_last_6_months=(\"Open\",\"mean\"))\n",
    "#         )\n",
    "\n",
    "print(mth3)\n",
    "\n",
    "# random guess from last two quarters of profit\n",
    "# at 4.558 assume 360 revenue for Q4 and 160M profit\n",
    "# 475 revenue and 260M profit for Q4\n",
    "# considering the investor presentation, thinking its closer to 360M revenue and 160 M profit.\n",
    "quarterly_profit = 160\n",
    "# \t266.05M * 0.2\n",
    "# if deliveries are 3 quarters behind then \n",
    "\n",
    "\n",
    "quarterly_dividend = 266.05 * 0.2\n",
    "print(quarterly_dividend)\n",
    "\n",
    "remaining_revenue = quarterly_profit - quarterly_dividend\n",
    "print(remaining_revenue)\n",
    "# 176 debt\n",
    "total_debt = 176\n",
    "\n",
    "# max debt reduction (they target to get to 50M USD in debt)\n",
    "min_debt_reduction = total_debt - 100\n",
    "\n",
    "print(min_debt_reduction)\n",
    "# bunch of risk of falling gas prices, but with new supply reduction from russia, doubt it would be so bad.\n",
    "\n",
    "# save fig\n",
    "mpf.plot(nat_gas,type='ohlc',mav=(30, 60, 90), volume=True, style='yahoo', savefig='ng.png')"
   ]
  }
 ],
 "metadata": {
  "jupytext": {
   "text_representation": {
    "extension": ".md",
    "format_name": "myst"
   }
  },
  "kernelspec": {
   "display_name": "Python 3",
   "language": "python",
   "name": "python3"
  },
  "language_info": {
   "codemirror_mode": {
    "name": "ipython",
    "version": 3
   },
   "file_extension": ".py",
   "mimetype": "text/x-python",
   "name": "python",
   "nbconvert_exporter": "python",
   "pygments_lexer": "ipython3",
   "version": "3.10.13"
  },
  "source_map": [
   12
  ]
 },
 "nbformat": 4,
 "nbformat_minor": 5
}