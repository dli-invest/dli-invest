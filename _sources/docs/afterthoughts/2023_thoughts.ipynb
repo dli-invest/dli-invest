{
 "cells": [
  {
   "cell_type": "code",
   "execution_count": 1,
   "id": "9c2b173a",
   "metadata": {},
   "outputs": [
    {
     "name": "stdout",
     "output_type": "stream",
     "text": [
      "\r",
      "[*********************100%***********************]  1 of 1 completed"
     ]
    },
    {
     "name": "stdout",
     "output_type": "stream",
     "text": [
      "\n",
      "                   avg_ng_last_3_months\n",
      "Month      Volume                      \n",
      "2021-03-31 92080                  2.621\n",
      "2021-06-30 187005                 3.651\n",
      "2021-09-30 243240                 5.457\n",
      "2021-12-31 93098                  3.589\n",
      "2022-03-31 159717                 5.575\n",
      "2022-06-30 182579                 6.428\n",
      "2022-09-30 97372                  6.895\n",
      "2022-12-30 62281                  4.558\n",
      "53.21000000000001\n",
      "106.78999999999999\n",
      "76\n"
     ]
    }
   ],
   "source": [
    "# calculate average from daily data from natural gas futures from yahoo finance\n",
    "import yfinance\n",
    "import pandas as pd\n",
    "import mplfinance as mpf\n",
    "\n",
    "# read NG=F 2 years worth of data\n",
    "\n",
    "nat_gas = yfinance.download(\"NG=F\", start=\"2021-01-01\", end=\"2023-01-01\")\n",
    "\n",
    "nat_gas['Month'] = pd.to_datetime(nat_gas.index)\n",
    "# pad all date\n",
    "# print(nat_gas.groupby(by=['Volume', 'Adj Close', pd.Grouper(key='Month', freq='3M')])['Open'].agg('mean'))\n",
    "\n",
    "mths_3 = pd.date_range(end = nat_gas.index[-1], freq=pd.offsets.BQuarterEnd(),periods=8)\n",
    "# mths_6 = pd.date_range(end = nat_gas.index[-1], freq=pd.offsets.MonthBegin(6),periods=4)\n",
    "\n",
    "mth3 = (nat_gas\n",
    "         #filter for last three months\n",
    "        .loc[mths_3]\n",
    "        .groupby([\"Month\", \"Volume\"])\n",
    "        .agg(avg_ng_last_3_months=(\"Open\",\"mean\"))\n",
    "        )\n",
    "\n",
    "# mth6 = (nat_gas\n",
    "#          #filter for last six months\n",
    "#         .loc[mths_6]\n",
    "#          .groupby([\"Volume\", \"Month\"])\n",
    "#         .agg(avg_invoices_last_6_months=(\"Open\",\"mean\"))\n",
    "#         )\n",
    "\n",
    "print(mth3)\n",
    "\n",
    "# random guess from last two quarters of profit\n",
    "# at 4.558 assume 360 revenue for Q4 and 160M profit\n",
    "# 475 revenue and 260M profit for Q4\n",
    "# considering the investor presentation, thinking its closer to 360M revenue and 160 M profit.\n",
    "quarterly_profit = 160\n",
    "# \t266.05M * 0.2\n",
    "# if deliveries are 3 quarters behind then \n",
    "\n",
    "\n",
    "quarterly_dividend = 266.05 * 0.2\n",
    "print(quarterly_dividend)\n",
    "\n",
    "remaining_revenue = quarterly_profit - quarterly_dividend\n",
    "print(remaining_revenue)\n",
    "# 176 debt\n",
    "total_debt = 176\n",
    "\n",
    "# max debt reduction (they target to get to 50M USD in debt)\n",
    "min_debt_reduction = total_debt - 100\n",
    "\n",
    "print(min_debt_reduction)\n",
    "# bunch of risk of falling gas prices, but with new supply reduction from russia, doubt it would be so bad.\n",
    "\n",
    "# save fig\n",
    "mpf.plot(nat_gas,type='ohlc',mav=(30, 60, 90), volume=True, style='yahoo', savefig='ng.png')"
   ]
  }
 ],
 "metadata": {
  "jupytext": {
   "text_representation": {
    "extension": ".md",
    "format_name": "myst"
   }
  },
  "kernelspec": {
   "display_name": "Python 3",
   "language": "python",
   "name": "python3"
  },
  "language_info": {
   "codemirror_mode": {
    "name": "ipython",
    "version": 3
   },
   "file_extension": ".py",
   "mimetype": "text/x-python",
   "name": "python",
   "nbconvert_exporter": "python",
   "pygments_lexer": "ipython3",
   "version": "3.10.10"
  },
  "source_map": [
   12
  ]
 },
 "nbformat": 4,
 "nbformat_minor": 5
}