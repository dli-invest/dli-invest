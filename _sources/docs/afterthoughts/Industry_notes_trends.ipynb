{
 "cells": [
  {
   "cell_type": "markdown",
   "id": "5e325f67",
   "metadata": {},
   "source": [
    "# Best Buy And Apple\n",
    "\n",
    "- investing in technology to dynamically display prices\n",
    "- best buy has smart labels, no idea where they got it from, check in another store that is bigger\n",
    "\n",
    "## Shipping Industry\n",
    "\n",
    "Our business has historically been seasonal in nature. As a result, our average freight rates have reflected fluctuations in demand for\n",
    "container shipping services, which affect the volume of cargo carried by our fleet and the freight rates which we charge for the\n",
    "transport of such cargo. Our income from voyages and related services are typically higher in the third and fourth quarters than the\n",
    "first and second quarters due to increased shipping of consumer goods from manufacturing centers in Asia to North America in\n",
    "anticipation of the major holiday period in Western countries. The first quarter is affected by a decrease in consumer spending in\n",
    "Western countries after the holiday period and reduced manufacturing activities in China and Southeast Asia due to the Chinese\n",
    "New Year. However, operating expenses such as expenses related to cargo handling, charter hire of vessels, fuel and lubricant\n",
    "expenses and port expenses are generally not subject to adjustment on a seasonal basis. As a result, seasonality can have an adverse\n",
    "effect on our business and results of operations.\n",
    "\n",
    "- tldr: q1 and q2 make less money, q3 and q4 make more money"
   ]
  }
 ],
 "metadata": {
  "jupytext": {
   "text_representation": {
    "extension": ".md",
    "format_name": "myst"
   }
  },
  "kernelspec": {
   "display_name": "Python 3",
   "language": "python",
   "name": "python3"
  },
  "source_map": [
   10
  ]
 },
 "nbformat": 4,
 "nbformat_minor": 5
}