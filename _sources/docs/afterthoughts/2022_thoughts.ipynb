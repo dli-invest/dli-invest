{
 "cells": [
  {
   "cell_type": "markdown",
   "id": "14bf7368",
   "metadata": {},
   "source": [
    "## Initial Thoughts\n",
    "\n",
    "Although I was somewhat accurate in predicting the prices of bb, all my other predictions were completely wrong.\n",
    "\n",
    "Note to self dont trust my ability to randomly throw out numbers, focus on big picture changes\n",
    "\n",
    "## Simple portfolio\n",
    "\n",
    "Despite losses in PKK, I still belive in the stock.\n",
    "\n",
    "My simple portfolio for 2022 would consist of mainly ar, fintech, one stable dividend stock.\n",
    "\n",
    "NTAR: 20%\n",
    "PKK: 20%\n",
    "ZIM: 20%\n",
    "VPH: 20%\n",
    "DCM: 20%\n",
    "\n",
    "## Plurlock Security\n",
    "\n",
    "1/16/2022.\n",
    "\n",
    "As of sept 2021 they are sitting around 7.6 million, losing 1.44 million per quarter.\n",
    "\n",
    "Can last until 2022.\n",
    "\n",
    "Seems like a lot of their business is low margin, not really that interesting at the moment.\n",
    "\n",
    "They are facing supply chain issues and making less on their hardware.\n",
    "\n",
    "I want to see their software sales go up higher before investing, likely thats why their stock is down.\n",
    "\n",
    "Not interested in low margin hardware sales while software sales remain flat.\n",
    "\n",
    "PLUR.V wait and see"
   ]
  }
 ],
 "metadata": {
  "jupytext": {
   "text_representation": {
    "extension": ".md",
    "format_name": "myst"
   }
  },
  "kernelspec": {
   "display_name": "Python 3",
   "language": "python",
   "name": "python3"
  },
  "language_info": {
   "codemirror_mode": {
    "name": "ipython",
    "version": 3
   },
   "file_extension": ".py",
   "mimetype": "text/x-python",
   "name": "python",
   "nbconvert_exporter": "python",
   "pygments_lexer": "ipython3",
   "version": "3.7.11"
  },
  "source_map": [
   10
  ]
 },
 "nbformat": 4,
 "nbformat_minor": 5
}