{
 "cells": [
  {
   "cell_type": "markdown",
   "id": "7833c2f0",
   "metadata": {},
   "source": [
    "(glossary)=\n",
    "\n",
    "# Glossary\n",
    "```{glossary}\n",
    "DeadCatBounce\n",
    "        Dead cat bounce is a small, brief recovery in the price of a declining stock.\n",
    "\n",
    "DebtToEquity\n",
    "        The debt-to-equity (D/E) ratio indicates how much debt a company is using to finance its assets relative to the value of shareholders' equity.\n",
    "\n",
    "\n",
    "```"
   ]
  }
 ],
 "metadata": {
  "jupytext": {
   "text_representation": {
    "extension": ".md",
    "format_name": "myst"
   }
  },
  "kernelspec": {
   "display_name": "Python 3",
   "language": "python",
   "name": "python3"
  },
  "source_map": [
   10
  ]
 },
 "nbformat": 4,
 "nbformat_minor": 5
}