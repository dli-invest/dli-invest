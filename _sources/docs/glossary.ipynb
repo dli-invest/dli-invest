{
 "cells": [
  {
   "cell_type": "markdown",
   "id": "d6d629dd",
   "metadata": {},
   "source": [
    "(glossary)=\n",
    "\n",
    "# Glossary\n",
    "```{glossary}\n",
    "DeadCatBounce\n",
    "        Dead cat bounce is a small, brief recovery in the price of a declining stock.\n",
    "\n",
    "DebtToEquity\n",
    "        The debt-to-equity (D/E) ratio indicates how much debt a company is using to finance its assets relative to the value of shareholders' equity.\n",
    "\n",
    "\n",
    "```"
   ]
  }
 ],
 "metadata": {
  "jupytext": {
   "text_representation": {
    "extension": ".md",
    "format_name": "myst"
   }
  },
  "kernelspec": {
   "display_name": "Python 3",
   "language": "python",
   "name": "python3"
  },
  "language_info": {
   "codemirror_mode": {
    "name": "ipython",
    "version": 3
   },
   "file_extension": ".py",
   "mimetype": "text/x-python",
   "name": "python",
   "nbconvert_exporter": "python",
   "pygments_lexer": "ipython3",
   "version": "3.7.11"
  },
  "source_map": [
   10
  ]
 },
 "nbformat": 4,
 "nbformat_minor": 5
}