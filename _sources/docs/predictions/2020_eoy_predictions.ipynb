{
 "cells": [
  {
   "cell_type": "markdown",
   "id": "entire-reservation",
   "metadata": {},
   "source": [
    "(Predictions)=\n",
    "# Predictions\n",
    "\n",
    "This year I predicted 20% profit, ended up with at least 40%, so doubled my projections.\n",
    "\n",
    "Expected to make money, back in march, wasn't worried about the virus, however, listened to bad advice and was familiar enough, and/or smart enough to yolo my money.\n",
    "\n",
    "## Dec 2020\n",
    "\n",
    "aiming for 75% on my stocks, \n",
    "\n",
    "My forever companies (3 or 4 years) should be PKK, MTRX, and maybe IDK (pinetree) went bankrupt/downhill before, I think SI will be smarter the second time around.\n",
    "\n",
    "\n",
    "## 2021\n",
    "Fair value IDK 0.75 cents, warrants are like cheating if you get them right. Right to buy stock at price after it goes up a lot.\n",
    "\n",
    "Peak may be around $5 next year and this was not counting excellent mega news earlier this year. I estimate $7 sometime next year.\n",
    "\n",
    "As for DCM, it seems to be picking up in price, if they offer dividends in the future, I will hold forever. I think DCM + PKK will be my dividend stocks.\n",
    "\n",
    "Should hold\n",
    "\n",
    "IDK\n",
    "MTRX\n",
    "PKK\n",
    "DCM"
   ]
  }
 ],
 "metadata": {
  "jupytext": {
   "text_representation": {
    "extension": ".md",
    "format_name": "myst"
   }
  },
  "kernelspec": {
   "display_name": "Python 3",
   "language": "python",
   "name": "python3"
  },
  "language_info": {
   "codemirror_mode": {
    "name": "ipython",
    "version": 3
   },
   "file_extension": ".py",
   "mimetype": "text/x-python",
   "name": "python",
   "nbconvert_exporter": "python",
   "pygments_lexer": "ipython3",
   "version": "3.7.9"
  },
  "source_map": [
   10
  ]
 },
 "nbformat": 4,
 "nbformat_minor": 5
}