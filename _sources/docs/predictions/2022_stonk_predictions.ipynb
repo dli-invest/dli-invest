{
 "cells": [
  {
   "cell_type": "markdown",
   "id": "579b3979",
   "metadata": {},
   "source": [
    "# 2022 Stonk thoughts\n",
    "\n",
    "\n",
    "## Itafos\n",
    "analysis can be performed better here.\n",
    "\n",
    "Itafos stock valued about slightly above 3 PE. Given general food shortages and high fertilizer prices, would expect the value here to stay, even alternative producers like earth renew are going to need phosphate rock.\n",
    "\n",
    "With market downturn, its possible this stock will go to 2 or 1 PE, net debt is acceptable.\n",
    "\n",
    "They expect a slowing in H2 2022 as no one has money anymore.\n",
    "\n",
    "Decent amount of shareholder equitity\n",
    "\n",
    "214414000 USD, market cap"
   ]
  },
  {
   "cell_type": "code",
   "execution_count": 1,
   "id": "b97a79d7",
   "metadata": {},
   "outputs": [
    {
     "name": "stdout",
     "output_type": "stream",
     "text": [
      "0.5894786039286843\n"
     ]
    }
   ],
   "source": [
    "jun22_equitity = 214414\t* 1000\n",
    "# market cap in usd\n",
    "market_cap =363.735 * 1000 * 1000\n",
    "\n",
    "# ratio is\n",
    "ratio = jun22_equitity / market_cap\n",
    "print(ratio)"
   ]
  },
  {
   "cell_type": "markdown",
   "id": "410de048",
   "metadata": {},
   "source": [
    "So if the business is liquidized at the current price, 0.5 is returned to shareholders.\n",
    "\n",
    "Earning back entire market cap in 2 or 3 years is appealing."
   ]
  },
  {
   "cell_type": "code",
   "execution_count": 2,
   "id": "8432b584",
   "metadata": {},
   "outputs": [
    {
     "data": {
      "text/plain": [
       "[<matplotlib.lines.Line2D at 0x7f373857c5b0>]"
      ]
     },
     "execution_count": 2,
     "metadata": {},
     "output_type": "execute_result"
    },
    {
     "data": {
      "image/png": "[encoded data removed]",
      "text/plain": [
       "<Figure size 640x480 with 1 Axes>"
      ]
     },
     "metadata": {
      "filenames": {
       "image/png": "/home/runner/work/dli-invest.github.io/dli-invest.github.io/ibook/_build/jupyter_execute/docs/predictions/2022_stonk_predictions_3_1.png"
      }
     },
     "output_type": "display_data"
    }
   ],
   "source": [
    "import matplotlib.pyplot as plt\n",
    "plt.plot([100, 80, 75, 76, 85])"
   ]
  },
  {
   "cell_type": "markdown",
   "id": "7dca5a9e",
   "metadata": {},
   "source": [
    "Earning should be sustained for a bit.\n",
    "\n",
    "Plot of expected earnings over the next few years based on article of expected phosphate rock.\n",
    "\n",
    "<a href=\"https://www.statista.com/statistics/1251275/phosphate-rock-fertilizer-price-forecast/\" rel=\"nofollow\"><img src=\"https://www.statista.com/graphic/1/1251275/phosphate-rock-fertilizer-price-forecast.jpg\" alt=\"Statistic: Price for phosphate rock from 2015 to 2020 with a forecast for 2021 to 2035 (in U.S. dollars per metric ton) | Statista\" style=\"width: 100%; height: auto !important; max-width:1000px;-ms-interpolation-mode: bicubic;\"/></a><br />Find more statistics at  <a href=\"https://www.statista.com\" rel=\"nofollow\">Statista</a>"
   ]
  },
  {
   "cell_type": "code",
   "execution_count": 3,
   "id": "be253fe5",
   "metadata": {},
   "outputs": [
    {
     "ename": "ModuleNotFoundError",
     "evalue": "No module named 'yfinance'",
     "output_type": "error",
     "traceback": [
      "\u001b[0;31m---------------------------------------------------------------------------\u001b[0m",
      "\u001b[0;31mModuleNotFoundError\u001b[0m                       Traceback (most recent call last)",
      "Input \u001b[0;32mIn [3]\u001b[0m, in \u001b[0;36m<cell line: 1>\u001b[0;34m()\u001b[0m\n\u001b[0;32m----> 1\u001b[0m \u001b[38;5;28;01mimport\u001b[39;00m \u001b[38;5;21;01myfinance\u001b[39;00m \u001b[38;5;28;01mas\u001b[39;00m \u001b[38;5;21;01myf\u001b[39;00m\n\u001b[1;32m      2\u001b[0m \u001b[38;5;28;01mimport\u001b[39;00m \u001b[38;5;21;01mmplfinance\u001b[39;00m \u001b[38;5;28;01mas\u001b[39;00m \u001b[38;5;21;01mmpf\u001b[39;00m\n\u001b[1;32m      3\u001b[0m sp \u001b[38;5;241m=\u001b[39m yf\u001b[38;5;241m.\u001b[39mTicker(\u001b[38;5;124m\"\u001b[39m\u001b[38;5;124mMBCF\u001b[39m\u001b[38;5;124m\"\u001b[39m)\n",
      "\u001b[0;31mModuleNotFoundError\u001b[0m: No module named 'yfinance'"
     ]
    }
   ],
   "source": [
    "import yfinance as yf\n",
    "import mplfinance as mpf\n",
    "sp = yf.Ticker(\"MBCF\")\n",
    "# Consider grabbing for valid date index instead\n",
    "daily = sp.history(start=\"2016-01-02\")\n",
    "mpf.plot(daily,type='line')\n",
    "\n",
    "last_year = sp.history(start=\"2021-03-14\")\n",
    "mpf.plot(last_year,type='candle',mav=(50, 100),volume=True)"
   ]
  },
  {
   "cell_type": "markdown",
   "id": "7fd22899",
   "metadata": {},
   "source": [
    "Its a bit above the 50MA, want to wait until its below."
   ]
  }
 ],
 "metadata": {
  "jupytext": {
   "text_representation": {
    "extension": ".md",
    "format_name": "myst"
   }
  },
  "kernelspec": {
   "display_name": "Python 3",
   "language": "python",
   "name": "python3"
  },
  "language_info": {
   "codemirror_mode": {
    "name": "ipython",
    "version": 3
   },
   "file_extension": ".py",
   "mimetype": "text/x-python",
   "name": "python",
   "nbconvert_exporter": "python",
   "pygments_lexer": "ipython3",
   "version": "3.10.6"
  },
  "source_map": [
   10,
   28,
   37,
   43,
   46,
   54,
   64
  ]
 },
 "nbformat": 4,
 "nbformat_minor": 5
}