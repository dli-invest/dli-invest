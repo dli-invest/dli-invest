{
 "cells": [
  {
   "cell_type": "markdown",
   "id": "99a78b1b",
   "metadata": {},
   "source": [
    "(Afterthoughts)=\n",
    "# Afterthoughts\n",
    "\n",
    "## Decision Making Framework\n",
    "1. Never buy a stock expecting to make money\n",
    "2. Does the stock have momentum\n",
    "3. Is this a good time to buy this stock and why (good news not realised, or no interest)\n",
    "4. Do I expect the stock to go up\n",
    "5. Is this stock industry going to be useful and do well\n",
    "6. Does the stock have good management.\n",
    "\n",
    "## Exchange uplisting trading schedule\n",
    "\n",
    "When stocks are uplisted from the cse and/or tsxv to the tsx or otc to the nasdaq, they become eligible for the big institutions to invest in.\n",
    "\n",
    "This is a simple supply and demand curve happening, increasing the price.\n",
    "\n",
    "% analyze PYR stock on Nov 21th 2020\n",
    "\n",
    "One aspect of algorithmic trading assumes that the current price is a fair price, accounting for P/E ratios and earnings. This can be widely off for small cap stocks, which I have done quite well in.\n",
    "\n",
    "\n",
    "One of the questions I seek to find out are fund managers just lucky monkeys."
   ]
  }
 ],
 "metadata": {
  "jupytext": {
   "text_representation": {
    "extension": ".md",
    "format_name": "myst"
   }
  },
  "kernelspec": {
   "display_name": "Python 3",
   "language": "python",
   "name": "python3"
  },
  "source_map": [
   10
  ]
 },
 "nbformat": 4,
 "nbformat_minor": 5
}