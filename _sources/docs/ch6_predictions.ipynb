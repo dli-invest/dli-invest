{
 "cells": [
  {
   "cell_type": "markdown",
   "id": "efbb9814",
   "metadata": {},
   "source": [
    "(Predictions)=\n",
    "# Predictions\n",
    "\n",
    "Contains my stock market predictions in the future, key word being predictions of the future. As a investor, it is good to critically reflect on bad decision making and my thoughts at the time. \n",
    "\n",
    "As the market becomes less volatile, it makes sense to be less yolo swaggy.\n",
    "\n",
    "Right now, I feel like I Would have made more money if I never sold a stock, just like buffett."
   ]
  }
 ],
 "metadata": {
  "jupytext": {
   "text_representation": {
    "extension": ".md",
    "format_name": "myst"
   }
  },
  "kernelspec": {
   "display_name": "Python 3",
   "language": "python",
   "name": "python3"
  },
  "language_info": {
   "codemirror_mode": {
    "name": "ipython",
    "version": 3
   },
   "file_extension": ".py",
   "mimetype": "text/x-python",
   "name": "python",
   "nbconvert_exporter": "python",
   "pygments_lexer": "ipython3",
   "version": "3.7.11"
  },
  "source_map": [
   10
  ]
 },
 "nbformat": 4,
 "nbformat_minor": 5
}