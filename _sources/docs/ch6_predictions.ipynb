{
 "cells": [
  {
   "cell_type": "markdown",
   "id": "57b1b78e",
   "metadata": {},
   "source": [
    "(Predictions)=\n",
    "# Predictions\n",
    "\n",
    "Contains my stock market predictions in the future, key word being predictions of the future. As a investor, it is good to critically reflect on bad decision making and my thoughts at the time. \n",
    "\n",
    "As the market becomes less volatile, it makes sense to be less yolo swaggy.\n",
    "\n",
    "Right now, I feel like I Would have made more money if I never sold a stock, just like buffett."
   ]
  }
 ],
 "metadata": {
  "jupytext": {
   "text_representation": {
    "extension": ".md",
    "format_name": "myst"
   }
  },
  "kernelspec": {
   "display_name": "Python 3",
   "language": "python",
   "name": "python3"
  },
  "source_map": [
   10
  ]
 },
 "nbformat": 4,
 "nbformat_minor": 5
}