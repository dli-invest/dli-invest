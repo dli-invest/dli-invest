{
 "cells": [
  {
   "cell_type": "markdown",
   "id": "9bd6f201",
   "metadata": {},
   "source": [
    "# Course Notes\n",
    "\n",
    "Various notes from courses (may be copy paste) -- remove from any final edition of the book.\n",
    "\n",
    "Strategies range\n",
    "from low-frequency, at least by trading\n",
    "standards, to high-frequency. You must implement high-frequency\n",
    "trading strategies with software and market\n",
    "interfaces that can handle sub-millisecond order\n",
    "creation and submission. Quant strategies\n",
    "are also a type of forecasting method that\n",
    "attempts to predict the future value of a stock or other instrument where\n",
    "the direction of a price spread between\n",
    "two instruments. These forecasts are based on an observed price response\n",
    "to factors that you have identified as\n",
    "statistically significant in predicting changes in\n",
    "an instrument's price. \n",
    "\n",
    "Mean reversion strategies\n",
    "depend on the stability or stationarity of an asset's price or spread relative\n",
    "to another asset. When the price risk\n",
    "spread gets too high, it becomes more likely\n",
    "that it will decrease, and so revert to its long-term\n",
    "mean or neutral value. When the price risk\n",
    "spread gets too low, it becomes more likely\n",
    "that it will increase, and again revert to its mean.\n",
    "\n",
    "\n",
    "Equally important\n",
    "is their ability to detect and profit\n",
    "from the execution of large orders that have\n",
    "been broken up and hidden using an order\n",
    "execution strategy. Let's say a firm\n",
    "wants to purchase an unusually large\n",
    "quantity of stock. Now use an execution\n",
    "strategy that enters the trades in a\n",
    "way that is supposed to break up and hide the order but which unintentionally\n",
    "signals search strategy.\n",
    "\n",
    " Sophisticated traders\n",
    "have their own algorithms which are able to detect\n",
    "these stealth orders. They're able to use\n",
    "this information to jump in front of\n",
    "the large orders, and profit by driving\n",
    "prices up ahead of a buy order or down\n",
    "ahead of a sell order. \n",
    "\n",
    "% Add this definition to glossary\n",
    "Spoofing is where traders\n",
    "attempt to mislead other traders by submitting\n",
    "orders to the market, order book that they\n",
    "don't intend to execute.\n",
    "\n",
    "Say a trading group needs to sell a stock and wants to\n",
    "get a better price. They can enter temporary\n",
    "large-sized buy orders below the current market\n",
    "bid to encourage other bidders to pay higher\n",
    "prices for the stock.\n",
    "\n",
    "Other potential applications of machine learning include \n",
    "\n",
    "* clustering grouping stocks that are similar or disimilar\n",
    "* Various plots for clustering and filtering companies by criteria\n",
    "* Making a hierarchy  matrix.\n",
    "\n",
    "**Risk of Trading**\n",
    "\n",
    "Knight financial group, bad IT practise, very risky assets.\n",
    "\n",
    "80\\% of the market is using quant trading already.\n",
    "\n",
    "\n",
    "% Finsihed the backtesting 01 google cloud module\n",
    "\n",
    "Calmar Ratio = Return / Maximum Drawdown\n",
    "Sharpe Ratio = Return / Risk"
   ]
  }
 ],
 "metadata": {
  "jupytext": {
   "text_representation": {
    "extension": ".md",
    "format_name": "myst"
   }
  },
  "kernelspec": {
   "display_name": "Python 3",
   "language": "python",
   "name": "python3"
  },
  "language_info": {
   "codemirror_mode": {
    "name": "ipython",
    "version": 3
   },
   "file_extension": ".py",
   "mimetype": "text/x-python",
   "name": "python",
   "nbconvert_exporter": "python",
   "pygments_lexer": "ipython3",
   "version": "3.10.10"
  },
  "source_map": [
   10
  ]
 },
 "nbformat": 4,
 "nbformat_minor": 5
}