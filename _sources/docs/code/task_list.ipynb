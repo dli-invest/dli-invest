{
 "cells": [
  {
   "cell_type": "markdown",
   "id": "90d81289",
   "metadata": {},
   "source": [
    "# Tasklist\n",
    "\n",
    "\n",
    "Acting under the assumption that tasklists will be implemented pretty quickly.\n",
    "\n",
    "```{todo}\n",
    "Move content to 2020 when done\n",
    "```\n",
    "\n",
    "\n",
    "**Vacation**\n",
    "Get reddit data integrated and analysed - can have angular site that reads from faunadb via streaming and shows the latest reddit tweets\n",
    "Also consider getting bigquery hooked up to the subreddits of interest.\n",
    "- [x] Implement logic from https://medium.com/swlh/the-fractal-indicator-detecting-tops-bottoms-in-markets-1d8aac0269e8 with signals in trading and compute ema.\n",
    "\n",
    "**12/07 - 12/14**\n",
    "Dash technical analysis minute by minute with data from yahoo finance. In depth day by day decision making.\n",
    "Finish testing the zipline environment.\n",
    "- [ ] Fix youtube nlp discord notifications - annotations kinda bad, would like channel name or something.\n",
    "- [ ] Setup pyfolio using github codespaces and jupyter notebook.\n",
    "- [ ] Youtube transcription of videos via url. Need to get webhook implementation to have it work on gae (whatever spin up codespace) or use google cloud run (need better docker file). Ehh agoracom has transcripts now, no need to not auto nlp it.\n",
    "- [ ] Add social media data golang api.\n",
    "\t- [x] twitter data\n",
    "\t- [ ] linkedin data (via company)\n",
    "\t- [ ] reddit data\n",
    "\n",
    "\n",
    "**12/01 - 12/06**\n",
    "- [x] Get notifications on each cron job on failure via github actions. See https://github.community/t/if-expression-with-context-variable/16558.\n",
    "\t- [x] youtube nlp kinda working\n",
    "\t- [x] earnings report generation hook working\n",
    "- [x] Fixed youtube nlp with docker embeds.\n",
    "\n",
    "\n",
    "\n",
    "## Future Projects\n",
    "\n",
    "\n",
    "#### Twitter data\n",
    "TODO\n",
    "\n",
    "- [ ] Stream data from twitter using the v2 api and/or v1 api.\n",
    "- [ ] Notifications when events happen\n",
    "- [ ] Use golang or python for this\n",
    "- [ ] Store data in faunadb with discord notifications\n",
    "- [ ]\n",
    "\n",
    "#### Sedar documents\n",
    "\n",
    "The sedar documents site is horribly outdated, I can automatically grab and download documents\n",
    "\n",
    "\n",
    "Steps:\n",
    "Seleinum based.\n",
    "\n",
    "1. Go to inputted sedar url\n",
    "2. Click on given link \n",
    "3. capcha reading using ocr downloading 5 images\n",
    "4. entering data into input field\n",
    "5. visiting all the other links now that authentication has occured."
   ]
  }
 ],
 "metadata": {
  "jupytext": {
   "text_representation": {
    "extension": ".md",
    "format_name": "myst"
   }
  },
  "kernelspec": {
   "display_name": "Python 3",
   "language": "python",
   "name": "python3"
  },
  "language_info": {
   "codemirror_mode": {
    "name": "ipython",
    "version": 3
   },
   "file_extension": ".py",
   "mimetype": "text/x-python",
   "name": "python",
   "nbconvert_exporter": "python",
   "pygments_lexer": "ipython3",
   "version": "3.7.10"
  },
  "source_map": [
   10
  ]
 },
 "nbformat": 4,
 "nbformat_minor": 5
}