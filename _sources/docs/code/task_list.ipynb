{
 "cells": [
  {
   "cell_type": "markdown",
   "id": "1a3b27b9",
   "metadata": {},
   "source": [
    "# Tasks\n",
    "\n",
    "Acting under the assumption that tasklists will be implemented pretty quickly.\n",
    "\n",
    "\n",
    "**Vacation**\n",
    "Get reddit data integrated and analysed - can have angular site that reads from faunadb via streaming and shows the latest reddit tweets\n",
    "Also consider getting bigquery hooked up to the subreddits of interest.\n",
    "\n",
    "\n",
    "**12/07 - 12/14**\n",
    "Dash technical analysis minute by minute with data from yahoo finance. In depth day by day decision making.\n",
    "Finish testing the zipline environment.\n",
    "\n",
    "## Future Projects\n",
    "\n",
    "### Sedar documents\n",
    "\n",
    "The sedar documents site is horribly outdated, I can automatically grab and download documents\n",
    "\n",
    "\n",
    "Steps:\n",
    "Seleinum based.\n",
    "\n",
    "1. Go to inputted sedar url\n",
    "2. Click on given link \n",
    "3. capcha reading using ocr downloading 5 images\n",
    "4. entering data into input field\n",
    "5. visiting all the other links now that authentication has occured.\n",
    "\n",
    "Seems hard"
   ]
  }
 ],
 "metadata": {
  "jupytext": {
   "text_representation": {
    "extension": ".md",
    "format_name": "myst"
   }
  },
  "kernelspec": {
   "display_name": "Python 3",
   "language": "python",
   "name": "python3"
  },
  "language_info": {
   "codemirror_mode": {
    "name": "ipython",
    "version": 3
   },
   "file_extension": ".py",
   "mimetype": "text/x-python",
   "name": "python",
   "nbconvert_exporter": "python",
   "pygments_lexer": "ipython3",
   "version": "3.10.6"
  },
  "source_map": [
   10
  ]
 },
 "nbformat": 4,
 "nbformat_minor": 5
}