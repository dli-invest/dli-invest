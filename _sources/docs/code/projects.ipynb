{
 "cells": [
  {
   "cell_type": "markdown",
   "id": "d480305a",
   "metadata": {},
   "source": [
    "## Stock Investing Projects\n",
    "\n",
    "Contains project overview and what I seek to accomplish in each project.\n",
    "\n",
    "### Youtube NLP\n",
    "\n",
    "* Annotate youtube videos\n",
    "* v2 can annotate videos without youtube transcriptions\n",
    "\n",
    "### Investing Book\n",
    "\n",
    "* Executable book containing all the content for my investing journey from software engineer\n",
    "to successful investor.\n",
    "* Contains a list of projects I have built related for investing.\n",
    "\n",
    "### Stock Dashboard\n",
    "\n",
    "* Includings various dash and streamlit apps for ta and analysis of stocks. My most common use case is to \n",
    "just look at all the stock prices of things I am interested in.\n",
    "* Dashboard with links to other projects\n",
    "\n",
    "### Earnings Report Calendar\n",
    "\n",
    "* Creates events in my calendar when the stocks in my stock list are being generated\n",
    "* Cron job to update list of stocks of interest\n",
    "* Copy existing google calendar interaction code from repo\n",
    "* Use best practise to initialize python repo\n",
    "* Have discord webhook to notify success or failure\n",
    "* update csv containing captured earnings per week (useful for future trading) - index by id\n",
    "* use browserstack instead of selenium for visiblity and easier traceback.\n",
    "* Make open source under dli-invest.\n",
    "\n",
    "\n",
    "### News Alerts\n",
    "\n",
    "* Output notifications from yahoo news, this only gets recent news, sometimes there is clutter from ads and/or random new items, but good enough for my purposes\n",
    "\n",
    "\n",
    "#### Bid analysis\n",
    "\n",
    "Get bid data per market open - move into fast api???\n",
    "\n",
    "Need to get bids for stocks from tmx web money and the cse before market open (might need selenium, probably not)."
   ]
  }
 ],
 "metadata": {
  "jupytext": {
   "text_representation": {
    "extension": ".md",
    "format_name": "myst"
   }
  },
  "kernelspec": {
   "display_name": "Python 3",
   "language": "python",
   "name": "python3"
  },
  "language_info": {
   "codemirror_mode": {
    "name": "ipython",
    "version": 3
   },
   "file_extension": ".py",
   "mimetype": "text/x-python",
   "name": "python",
   "nbconvert_exporter": "python",
   "pygments_lexer": "ipython3",
   "version": "3.7.10"
  },
  "source_map": [
   10
  ]
 },
 "nbformat": 4,
 "nbformat_minor": 5
}