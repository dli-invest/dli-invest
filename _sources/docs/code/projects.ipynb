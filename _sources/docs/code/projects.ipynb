{
 "cells": [
  {
   "cell_type": "markdown",
   "metadata": {},
   "source": [
    "# Stock Investing Projects\n",
    "\n",
    "## Earnings Report Calendar\n",
    "\n",
    "* Creates events in my calendar when the stocks in my stock list are being generated\n",
    "* Cron job to update list of stocks of interest\n",
    "* Copy existing google calendar interaction code from repo\n",
    "* Use best practise to initialize python repo\n",
    "* Add discord webhook to notify success or failure\n",
    "* update csv containing captured earnings per week (useful for future trading) - index by id\n",
    "* use browserstack instead of selenium for visiblity and easier traceback.\n",
    "* Make open source under dli-invest.\n",
    "\n",
    "\n",
    "## Sedar documents\n",
    "\n",
    "The sedar documents site is horribly outdated, I can automatically grab and download documents\n",
    "\n",
    "\n",
    "Steps:\n",
    "Seleinum based.\n",
    "\n",
    "1. Go to inputted sedar url\n",
    "2. Click on given link \n",
    "3. capcha reading using ocr downloading 5 images\n",
    "4. entering data into input field\n",
    "5. visiting all the other links now that authentication has occured."
   ]
  }
 ],
 "metadata": {
  "jupytext": {
   "text_representation": {
    "extension": ".md",
    "format_name": "myst"
   }
  },
  "kernelspec": {
   "display_name": "Python 3",
   "language": "python",
   "name": "python3"
  },
  "language_info": {
   "codemirror_mode": {
    "name": "ipython",
    "version": 3
   },
   "file_extension": ".py",
   "mimetype": "text/x-python",
   "name": "python",
   "nbconvert_exporter": "python",
   "pygments_lexer": "ipython3",
   "version": "3.7.9"
  },
  "source_map": [
   10
  ]
 },
 "nbformat": 4,
 "nbformat_minor": 4
}